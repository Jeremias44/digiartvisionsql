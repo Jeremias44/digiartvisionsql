{
 "cells": [
  {
   "cell_type": "markdown",
   "metadata": {},
   "source": [
    "# Importación de librerías para conexión con la base de datos en PostgresSQL"
   ]
  },
  {
   "cell_type": "code",
   "execution_count": 1,
   "metadata": {},
   "outputs": [],
   "source": [
    "import psycopg2\n",
    "import pandas as pd\n",
    "from dotenv import load_dotenv\n",
    "import os\n",
    "import numpy as np"
   ]
  },
  {
   "cell_type": "markdown",
   "metadata": {},
   "source": [
    "# Importación de librerías para entrenamiento y evaluación de los modelos"
   ]
  },
  {
   "cell_type": "code",
   "execution_count": 2,
   "metadata": {},
   "outputs": [],
   "source": [
    "import tensorflow as tf\n",
    "from tensorflow import keras\n",
    "from tensorflow.keras import layers"
   ]
  },
  {
   "cell_type": "code",
   "execution_count": 34,
   "metadata": {},
   "outputs": [],
   "source": [
    "from sklearn.metrics import f1_score, accuracy_score, recall_score, confusion_matrix"
   ]
  },
  {
   "cell_type": "markdown",
   "metadata": {},
   "source": [
    "# Acceso a la base de datos de PostgresSQL"
   ]
  },
  {
   "cell_type": "code",
   "execution_count": 20,
   "metadata": {},
   "outputs": [
    {
     "name": "stderr",
     "output_type": "stream",
     "text": [
      "C:\\Users\\Usuario\\AppData\\Local\\Temp\\ipykernel_32116\\1929048143.py:14: UserWarning: pandas only supports SQLAlchemy connectable (engine/connection) or database string URI or sqlite3 DBAPI2 connection. Other DBAPI2 objects are not tested. Please consider using SQLAlchemy.\n",
      "  df = pd.read_sql_query(query, conn)\n"
     ]
    },
    {
     "data": {
      "text/plain": [
       "478"
      ]
     },
     "execution_count": 20,
     "metadata": {},
     "output_type": "execute_result"
    }
   ],
   "source": [
    "# Cargar las variables de entorno desde un archivo .env\n",
    "load_dotenv()\n",
    "\n",
    "# Obtener la URL de la base de datos desde las variables de entorno\n",
    "DATABASE_URL = os.getenv(\"DATABASE_URL\")\n",
    "\n",
    "# Establecer una conexión a la base de datos\n",
    "conn = psycopg2.connect(DATABASE_URL)\n",
    "\n",
    "# Definir la consulta SQL para seleccionar todos los datos de la tabla \"datos\"\n",
    "query = \"SELECT * FROM datos\"\n",
    "\n",
    "# Utilizar pandas para ejecutar la consulta y cargar los resultados en un DataFrame\n",
    "df = pd.read_sql_query(query, conn)\n",
    "\n",
    "# Cerrar la conexión a la base de datos\n",
    "conn.close()\n",
    "\n",
    "# Ahora, df contiene los datos de la tabla \"datos\" en un DataFrame. Comprobamos la cantidad de registros\n",
    "len(df)"
   ]
  },
  {
   "cell_type": "markdown",
   "metadata": {},
   "source": [
    "# Preparación de los datos para entrenar al modelo"
   ]
  },
  {
   "cell_type": "code",
   "execution_count": 21,
   "metadata": {},
   "outputs": [],
   "source": [
    "# Definir una función para convertir la lista anidada en un numpy.ndarray\n",
    "def parse_vector(vector_list):\n",
    "    # Convertir la lista en un numpy.ndarray y luego redimensiona a (28, 28)\n",
    "    return np.array(vector_list).reshape(28, 28).astype(np.float32)\n",
    "\n",
    "# Aplicar la función a la columna \"vector\" y crea una nueva columna \"VectorNum\"\n",
    "df['VectorNum'] = df['vector'].apply(parse_vector)\n",
    "\n",
    "# Convertir la columna 'VectorNum' en una lista de numpy.ndarray\n",
    "train_vectors = df['VectorNum'].to_list()\n",
    "\n",
    "# Convertir la lista en un numpy.ndarray de forma (n, 28, 28), donde n es el número de filas\n",
    "train_vectors = np.array(train_vectors)\n",
    "\n",
    "labels = df['etiqueta'].tolist()\n",
    "labels = np.array(labels)"
   ]
  },
  {
   "cell_type": "markdown",
   "metadata": {},
   "source": [
    "# Entrenamiento de retrained_model.h5 únicamente con los datos extraídos de la app (alojados en tabla datos, en la db de PostrgresSQL)"
   ]
  },
  {
   "cell_type": "code",
   "execution_count": 5,
   "metadata": {},
   "outputs": [
    {
     "name": "stdout",
     "output_type": "stream",
     "text": [
      "Epoch 1/6\n",
      "15/15 [==============================] - 2s 9ms/step - loss: 2.0147 - accuracy: 0.3695\n",
      "Epoch 2/6\n",
      "15/15 [==============================] - 0s 13ms/step - loss: 1.1751 - accuracy: 0.7323\n",
      "Epoch 3/6\n",
      "15/15 [==============================] - 0s 9ms/step - loss: 0.7398 - accuracy: 0.8274\n",
      "Epoch 4/6\n",
      "15/15 [==============================] - 0s 10ms/step - loss: 0.5420 - accuracy: 0.8938\n",
      "Epoch 5/6\n",
      "15/15 [==============================] - 0s 10ms/step - loss: 0.4519 - accuracy: 0.8894\n",
      "Epoch 6/6\n",
      "15/15 [==============================] - 0s 11ms/step - loss: 0.3797 - accuracy: 0.9115\n"
     ]
    },
    {
     "data": {
      "text/plain": [
       "<keras.src.callbacks.History at 0x162eefe5fd0>"
      ]
     },
     "execution_count": 5,
     "metadata": {},
     "output_type": "execute_result"
    }
   ],
   "source": [
    "# Crear un modelo secuencial\n",
    "retrained_model = keras.Sequential([\n",
    "    layers.Flatten(input_shape=(28, 28)),\n",
    "    layers.Dense(128, activation='relu'),\n",
    "    layers.Dropout(0.2),\n",
    "    layers.Dense(10, activation='softmax')\n",
    "])\n",
    "\n",
    "# Compilar el modelo\n",
    "retrained_model.compile(optimizer='adam',\n",
    "              loss='sparse_categorical_crossentropy',\n",
    "              metrics=['accuracy'])\n",
    "\n",
    "# Entrenar el modelo\n",
    "retrained_model.fit(np.array(train_vectors), labels, epochs=6)"
   ]
  },
  {
   "cell_type": "code",
   "execution_count": 6,
   "metadata": {},
   "outputs": [
    {
     "name": "stderr",
     "output_type": "stream",
     "text": [
      "c:\\Users\\Usuario\\AppData\\Local\\Programs\\Python\\Python311\\Lib\\site-packages\\keras\\src\\engine\\training.py:3079: UserWarning: You are saving your model as an HDF5 file via `model.save()`. This file format is considered legacy. We recommend using instead the native Keras format, e.g. `model.save('my_model.keras')`.\n",
      "  saving_api.save_model(\n"
     ]
    }
   ],
   "source": [
    "# Una vez que haya terminado el entrenamiento, guardar el modelo\n",
    "retrained_model.save(\"model_retrained.h5\")"
   ]
  },
  {
   "cell_type": "markdown",
   "metadata": {},
   "source": [
    "# Reentrenamiento de mix_model.h5. Utiliza el model.h5 preentrenado con MNIST, y reentrena las últimas capas con los datos extraídos de la app"
   ]
  },
  {
   "cell_type": "code",
   "execution_count": 16,
   "metadata": {},
   "outputs": [
    {
     "name": "stdout",
     "output_type": "stream",
     "text": [
      "Epoch 1/6\n",
      "15/15 [==============================] - 2s 9ms/step - loss: 1.8555 - accuracy: 0.6903\n",
      "Epoch 2/6\n",
      "15/15 [==============================] - 0s 7ms/step - loss: 0.9227 - accuracy: 0.7788\n",
      "Epoch 3/6\n",
      "15/15 [==============================] - 0s 9ms/step - loss: 0.6816 - accuracy: 0.8252\n",
      "Epoch 4/6\n",
      "15/15 [==============================] - 0s 11ms/step - loss: 0.4254 - accuracy: 0.8761\n",
      "Epoch 5/6\n",
      "15/15 [==============================] - 0s 12ms/step - loss: 0.4176 - accuracy: 0.8982\n",
      "Epoch 6/6\n",
      "15/15 [==============================] - 0s 9ms/step - loss: 0.3230 - accuracy: 0.9181\n"
     ]
    },
    {
     "data": {
      "text/plain": [
       "<keras.src.callbacks.History at 0x162f5ce13d0>"
      ]
     },
     "execution_count": 16,
     "metadata": {},
     "output_type": "execute_result"
    }
   ],
   "source": [
    "mnist_model = keras.models.load_model(\"model_mnist.h5\")\n",
    "mix_model = keras.models.clone_model(mnist_model)\n",
    "mix_model.set_weights(mnist_model.get_weights())\n",
    "for layer in mix_model.layers[:-4]: #entrena solamente las últimas 'n' capas\n",
    "    layer.trainable = False\n",
    "\n",
    "mix_model.compile(optimizer='adam', loss='sparse_categorical_crossentropy', metrics=['accuracy'])\n",
    "\n",
    "mix_model.fit(np.array(train_vectors), labels, epochs=6)"
   ]
  },
  {
   "cell_type": "code",
   "execution_count": 18,
   "metadata": {},
   "outputs": [],
   "source": [
    "# Una vez que haya terminado el entrenamiento, guardar el modelo\n",
    "mix_model.save(\"model_mix.h5\")"
   ]
  },
  {
   "cell_type": "markdown",
   "metadata": {},
   "source": [
    "# Entrenamiento del modelo con conjunto de datos mnist"
   ]
  },
  {
   "cell_type": "code",
   "execution_count": 86,
   "metadata": {},
   "outputs": [
    {
     "name": "stdout",
     "output_type": "stream",
     "text": [
      "Epoch 1/6\n",
      "1875/1875 [==============================] - 24s 11ms/step - loss: 0.2962 - accuracy: 0.9146\n",
      "Epoch 2/6\n",
      "1875/1875 [==============================] - 26s 14ms/step - loss: 0.1412 - accuracy: 0.9583\n",
      "Epoch 3/6\n",
      "1875/1875 [==============================] - 15s 8ms/step - loss: 0.1079 - accuracy: 0.9672\n",
      "Epoch 4/6\n",
      "1875/1875 [==============================] - 14s 7ms/step - loss: 0.0880 - accuracy: 0.9725\n",
      "Epoch 5/6\n",
      "1875/1875 [==============================] - 14s 7ms/step - loss: 0.0756 - accuracy: 0.9763\n",
      "Epoch 6/6\n",
      "1875/1875 [==============================] - 14s 7ms/step - loss: 0.0657 - accuracy: 0.9790\n"
     ]
    },
    {
     "data": {
      "text/plain": [
       "<keras.src.callbacks.History at 0x1ff25b88a90>"
      ]
     },
     "execution_count": 86,
     "metadata": {},
     "output_type": "execute_result"
    }
   ],
   "source": [
    "\"\"\"\n",
    "# Cargar el conjunto de datos MNIST\n",
    "mnist = keras.datasets.mnist\n",
    "(train_images, train_labels), (test_images, test_labels) = mnist.load_data()\n",
    "# Normalizar los valores de píxeles al rango [0, 1]\n",
    "train_images, test_images = train_images / 255.0, test_images / 255.0\n",
    "\n",
    "# Crear un modelo secuencial\n",
    "mnist_model = keras.Sequential([\n",
    "    layers.Flatten(input_shape=(28, 28)),\n",
    "    layers.Dense(128, activation='relu'),\n",
    "    layers.Dropout(0.2),\n",
    "    layers.Dense(10, activation='softmax')\n",
    "])\n",
    "\n",
    "# Compilar el modelo\n",
    "mnist_model.compile(optimizer='adam',\n",
    "              loss='sparse_categorical_crossentropy',\n",
    "              metrics=['accuracy'])\n",
    "\n",
    "# Entrenar el modelo\n",
    "mnist_model.fit(np.array(train_images), train_labels, epochs=6)\n",
    "\n",
    "# Una vez que haya terminado el entrenamiento, guardar el modelo\n",
    "mnist_model.save(\"model_mnist.h5\")\n",
    "\"\"\""
   ]
  },
  {
   "cell_type": "markdown",
   "metadata": {},
   "source": [
    "***\n",
    "# Comparativa de modelos\n",
    "***"
   ]
  },
  {
   "cell_type": "code",
   "execution_count": 24,
   "metadata": {},
   "outputs": [],
   "source": [
    "mnist_model = keras.models.load_model(\"model_mnist.h5\")\n",
    "mix_model = keras.models.load_model(\"model_mix.h5\")\n",
    "retrained_model = keras.models.load_model(\"model_retrained.h5\")"
   ]
  },
  {
   "cell_type": "markdown",
   "metadata": {},
   "source": [
    "# Cálculo de Accuracy"
   ]
  },
  {
   "cell_type": "markdown",
   "metadata": {},
   "source": [
    "mnist_model"
   ]
  },
  {
   "cell_type": "code",
   "execution_count": 26,
   "metadata": {},
   "outputs": [
    {
     "name": "stdout",
     "output_type": "stream",
     "text": [
      "15/15 [==============================] - 0s 4ms/step\n",
      "Precisión del modelo en el conjunto de entrenamiento: 63.18%\n"
     ]
    }
   ],
   "source": [
    "# Realiza las predicciones en el conjunto de entrenamiento\n",
    "predictions = mnist_model.predict(train_vectors)\n",
    "# Convierte las predicciones en etiquetas\n",
    "predicted_labels = np.argmax(predictions, axis=1)\n",
    "# Calcula la precisión\n",
    "accuracy = np.mean(predicted_labels == labels)\n",
    "print(f'Precisión del modelo en el conjunto de entrenamiento: {accuracy * 100:.2f}%')"
   ]
  },
  {
   "cell_type": "markdown",
   "metadata": {},
   "source": [
    "mix_model"
   ]
  },
  {
   "cell_type": "code",
   "execution_count": 27,
   "metadata": {},
   "outputs": [
    {
     "name": "stdout",
     "output_type": "stream",
     "text": [
      "15/15 [==============================] - 0s 3ms/step\n",
      "Precisión del modelo en el conjunto de entrenamiento: 94.77%\n"
     ]
    }
   ],
   "source": [
    "# Realiza las predicciones en el conjunto de entrenamiento\n",
    "predictions = mix_model.predict(train_vectors)\n",
    "# Convierte las predicciones en etiquetas\n",
    "predicted_labels = np.argmax(predictions, axis=1)\n",
    "# Calcula la precisión\n",
    "accuracy = np.mean(predicted_labels == labels)\n",
    "print(f'Precisión del modelo en el conjunto de entrenamiento: {accuracy * 100:.2f}%')"
   ]
  },
  {
   "cell_type": "markdown",
   "metadata": {},
   "source": [
    "retrained_model"
   ]
  },
  {
   "cell_type": "code",
   "execution_count": 28,
   "metadata": {},
   "outputs": [
    {
     "name": "stdout",
     "output_type": "stream",
     "text": [
      "15/15 [==============================] - 0s 4ms/step\n",
      "Precisión del modelo en el conjunto de entrenamiento: 93.10%\n"
     ]
    }
   ],
   "source": [
    "# Realiza las predicciones en el conjunto de entrenamiento\n",
    "predictions = retrained_model.predict(train_vectors)\n",
    "# Convierte las predicciones en etiquetas\n",
    "predicted_labels = np.argmax(predictions, axis=1)\n",
    "# Calcula la precisión\n",
    "accuracy = np.mean(predicted_labels == labels)\n",
    "print(f'Precisión del modelo en el conjunto de entrenamiento: {accuracy * 100:.2f}%')"
   ]
  },
  {
   "cell_type": "markdown",
   "metadata": {},
   "source": [
    "# Cálculo de F1 Score"
   ]
  },
  {
   "cell_type": "markdown",
   "metadata": {},
   "source": [
    "mnist_model"
   ]
  },
  {
   "cell_type": "code",
   "execution_count": 30,
   "metadata": {},
   "outputs": [
    {
     "name": "stdout",
     "output_type": "stream",
     "text": [
      "15/15 [==============================] - 0s 4ms/step\n",
      "Puntaje F1 en el conjunto de entrenamiento: 0.62\n"
     ]
    }
   ],
   "source": [
    "# Realiza las predicciones en el conjunto de entrenamiento\n",
    "predictions = mnist_model.predict(train_vectors)\n",
    "# Convierte las predicciones en etiquetas\n",
    "predicted_labels = np.argmax(predictions, axis=1)\n",
    "# Calcula el puntaje F1\n",
    "f1 = f1_score(labels, predicted_labels, average='weighted')\n",
    "print(f'Puntaje F1 en el conjunto de entrenamiento: {f1:.2f}')"
   ]
  },
  {
   "cell_type": "markdown",
   "metadata": {},
   "source": [
    "mix_model"
   ]
  },
  {
   "cell_type": "code",
   "execution_count": 31,
   "metadata": {},
   "outputs": [
    {
     "name": "stdout",
     "output_type": "stream",
     "text": [
      "15/15 [==============================] - 1s 5ms/step\n",
      "Puntaje F1 en el conjunto de entrenamiento: 0.95\n"
     ]
    }
   ],
   "source": [
    "# Realiza las predicciones en el conjunto de entrenamiento\n",
    "predictions = mix_model.predict(train_vectors)\n",
    "# Convierte las predicciones en etiquetas\n",
    "predicted_labels = np.argmax(predictions, axis=1)\n",
    "# Calcula el puntaje F1\n",
    "f1 = f1_score(labels, predicted_labels, average='weighted')\n",
    "print(f'Puntaje F1 en el conjunto de entrenamiento: {f1:.2f}')"
   ]
  },
  {
   "cell_type": "markdown",
   "metadata": {},
   "source": [
    "retrained_model"
   ]
  },
  {
   "cell_type": "code",
   "execution_count": 32,
   "metadata": {},
   "outputs": [
    {
     "name": "stdout",
     "output_type": "stream",
     "text": [
      "15/15 [==============================] - 0s 3ms/step\n",
      "Puntaje F1 en el conjunto de entrenamiento: 0.93\n"
     ]
    }
   ],
   "source": [
    "# Realiza las predicciones en el conjunto de entrenamiento\n",
    "predictions = retrained_model.predict(train_vectors)\n",
    "# Convierte las predicciones en etiquetas\n",
    "predicted_labels = np.argmax(predictions, axis=1)\n",
    "# Calcula el puntaje F1\n",
    "f1 = f1_score(labels, predicted_labels, average='weighted')\n",
    "print(f'Puntaje F1 en el conjunto de entrenamiento: {f1:.2f}')"
   ]
  },
  {
   "cell_type": "markdown",
   "metadata": {},
   "source": [
    "# Matriz de Confusión"
   ]
  },
  {
   "cell_type": "code",
   "execution_count": 36,
   "metadata": {},
   "outputs": [],
   "source": [
    "import seaborn as sns\n",
    "import matplotlib.pyplot as plt"
   ]
  },
  {
   "cell_type": "markdown",
   "metadata": {},
   "source": [
    "mnist_model\n",
    "***"
   ]
  },
  {
   "cell_type": "code",
   "execution_count": 65,
   "metadata": {},
   "outputs": [
    {
     "name": "stdout",
     "output_type": "stream",
     "text": [
      " 1/15 [=>............................] - ETA: 0s"
     ]
    },
    {
     "name": "stdout",
     "output_type": "stream",
     "text": [
      "15/15 [==============================] - 0s 5ms/step\n"
     ]
    },
    {
     "data": {
      "image/png": "[encoded data removed]",
      "text/plain": [
       "<Figure size 800x600 with 2 Axes>"
      ]
     },
     "metadata": {},
     "output_type": "display_data"
    }
   ],
   "source": [
    "# Realiza las predicciones en el conjunto de entrenamiento\n",
    "predictions = mnist_model.predict(train_vectors)\n",
    "# Convierte las predicciones en etiquetas\n",
    "predicted_labels = np.argmax(predictions, axis=1)\n",
    "# Calcula la matriz de confusión\n",
    "confusion = confusion_matrix(labels, predicted_labels)\n",
    "# Define los nombres de las etiquetas\n",
    "class_names = [str(i) for i in range(10)]\n",
    "# Crea un heatmap para visualizar la matriz de confusión\n",
    "plt.figure(figsize=(8, 6))\n",
    "sns.heatmap(confusion, annot=True, fmt='d', cmap='Blues', xticklabels=class_names, yticklabels=class_names)\n",
    "\n",
    "plt.xlabel('Etiquetas Predichas')\n",
    "plt.ylabel('Etiquetas Correctas')\n",
    "plt.title('Matriz de Confusión mnist_model')\n",
    "plt.show()"
   ]
  },
  {
   "cell_type": "code",
   "execution_count": 59,
   "metadata": {},
   "outputs": [
    {
     "name": "stdout",
     "output_type": "stream",
     "text": [
      "Valor 0. 36 labels. 25 predicted_labels.\n",
      "Valor 1. 60 labels. 30 predicted_labels.\n",
      "Valor 2. 61 labels. 81 predicted_labels.\n",
      "Valor 3. 54 labels. 118 predicted_labels.\n",
      "Valor 4. 44 labels. 46 predicted_labels.\n",
      "Valor 5. 34 labels. 41 predicted_labels.\n",
      "Valor 6. 38 labels. 51 predicted_labels.\n",
      "Valor 7. 51 labels. 21 predicted_labels.\n",
      "Valor 8. 49 labels. 34 predicted_labels.\n",
      "Valor 9. 51 labels. 31 predicted_labels.\n"
     ]
    }
   ],
   "source": [
    "value_to_count = [0,1,2,3,4,5,6,7,8,9]\n",
    "for value_to_count in value_to_count:\n",
    "    count_a = np.count_nonzero(labels == value_to_count)\n",
    "    count_b = np.count_nonzero(predicted_labels == value_to_count)\n",
    "    print(f\"Valor {value_to_count}. {count_a} labels. {count_b} predicted_labels.\")"
   ]
  },
  {
   "cell_type": "markdown",
   "metadata": {},
   "source": [
    "mix_model\n",
    "***"
   ]
  },
  {
   "cell_type": "code",
   "execution_count": 66,
   "metadata": {},
   "outputs": [
    {
     "name": "stdout",
     "output_type": "stream",
     "text": [
      "15/15 [==============================] - 0s 8ms/step\n"
     ]
    },
    {
     "data": {
      "image/png": "[encoded data removed]",
      "text/plain": [
       "<Figure size 800x600 with 2 Axes>"
      ]
     },
     "metadata": {},
     "output_type": "display_data"
    }
   ],
   "source": [
    "# Realiza las predicciones en el conjunto de entrenamiento\n",
    "predictions = mix_model.predict(train_vectors)\n",
    "# Convierte las predicciones en etiquetas\n",
    "predicted_labels = np.argmax(predictions, axis=1)\n",
    "# Calcula la matriz de confusión\n",
    "confusion = confusion_matrix(labels, predicted_labels)\n",
    "# Define los nombres de las etiquetas\n",
    "class_names = [str(i) for i in range(10)]\n",
    "# Crea un heatmap para visualizar la matriz de confusión\n",
    "plt.figure(figsize=(8, 6))\n",
    "sns.heatmap(confusion, annot=True, fmt='d', cmap='Blues', xticklabels=class_names, yticklabels=class_names)\n",
    "\n",
    "plt.xlabel('Etiquetas Predichas')\n",
    "plt.ylabel('Etiquetas Correctas')\n",
    "plt.title('Matriz de Confusión mix_model')\n",
    "plt.show()"
   ]
  },
  {
   "cell_type": "code",
   "execution_count": 61,
   "metadata": {},
   "outputs": [
    {
     "name": "stdout",
     "output_type": "stream",
     "text": [
      "Valor 0. 36 labels. 33 predicted_labels.\n",
      "Valor 1. 60 labels. 62 predicted_labels.\n",
      "Valor 2. 61 labels. 61 predicted_labels.\n",
      "Valor 3. 54 labels. 52 predicted_labels.\n",
      "Valor 4. 44 labels. 41 predicted_labels.\n",
      "Valor 5. 34 labels. 35 predicted_labels.\n",
      "Valor 6. 38 labels. 39 predicted_labels.\n",
      "Valor 7. 51 labels. 50 predicted_labels.\n",
      "Valor 8. 49 labels. 48 predicted_labels.\n",
      "Valor 9. 51 labels. 57 predicted_labels.\n"
     ]
    }
   ],
   "source": [
    "value_to_count = [0,1,2,3,4,5,6,7,8,9]\n",
    "for value_to_count in value_to_count:\n",
    "    count_a = np.count_nonzero(labels == value_to_count)\n",
    "    count_b = np.count_nonzero(predicted_labels == value_to_count)\n",
    "    print(f\"Valor {value_to_count}. {count_a} labels. {count_b} predicted_labels.\")"
   ]
  },
  {
   "cell_type": "markdown",
   "metadata": {},
   "source": [
    "retrained_model\n",
    "***"
   ]
  },
  {
   "cell_type": "code",
   "execution_count": 67,
   "metadata": {},
   "outputs": [
    {
     "name": "stdout",
     "output_type": "stream",
     "text": [
      "15/15 [==============================] - 1s 16ms/step\n"
     ]
    },
    {
     "data": {
      "image/png": "[encoded data removed]",
      "text/plain": [
       "<Figure size 800x600 with 2 Axes>"
      ]
     },
     "metadata": {},
     "output_type": "display_data"
    }
   ],
   "source": [
    "# Realiza las predicciones en el conjunto de entrenamiento\n",
    "predictions = retrained_model.predict(train_vectors)\n",
    "# Convierte las predicciones en etiquetas\n",
    "predicted_labels = np.argmax(predictions, axis=1)\n",
    "# Calcula la matriz de confusión\n",
    "confusion = confusion_matrix(labels, predicted_labels)\n",
    "# Define los nombres de las etiquetas\n",
    "class_names = [str(i) for i in range(10)]\n",
    "# Crea un heatmap para visualizar la matriz de confusión\n",
    "plt.figure(figsize=(8, 6))\n",
    "sns.heatmap(confusion, annot=True, fmt='d', cmap='Blues', xticklabels=class_names, yticklabels=class_names)\n",
    "\n",
    "plt.xlabel('Etiquetas Predichas')\n",
    "plt.ylabel('Etiquetas Correctas')\n",
    "plt.title('Matriz de Confusión retrained_model')\n",
    "plt.show()"
   ]
  },
  {
   "cell_type": "code",
   "execution_count": 64,
   "metadata": {},
   "outputs": [
    {
     "name": "stdout",
     "output_type": "stream",
     "text": [
      "Valor 0. 36 labels. 36 predicted_labels.\n",
      "Valor 1. 60 labels. 64 predicted_labels.\n",
      "Valor 2. 61 labels. 54 predicted_labels.\n",
      "Valor 3. 54 labels. 53 predicted_labels.\n",
      "Valor 4. 44 labels. 47 predicted_labels.\n",
      "Valor 5. 34 labels. 33 predicted_labels.\n",
      "Valor 6. 38 labels. 39 predicted_labels.\n",
      "Valor 7. 51 labels. 47 predicted_labels.\n",
      "Valor 8. 49 labels. 51 predicted_labels.\n",
      "Valor 9. 51 labels. 54 predicted_labels.\n"
     ]
    }
   ],
   "source": [
    "value_to_count = [0,1,2,3,4,5,6,7,8,9]\n",
    "for value_to_count in value_to_count:\n",
    "    count_a = np.count_nonzero(labels == value_to_count)\n",
    "    count_b = np.count_nonzero(predicted_labels == value_to_count)\n",
    "    print(f\"Valor {value_to_count}. {count_a} labels. {count_b} predicted_labels.\")"
   ]
  }
 ],
 "metadata": {
  "kernelspec": {
   "display_name": "venvSQL",
   "language": "python",
   "name": "python3"
  },
  "language_info": {
   "codemirror_mode": {
    "name": "ipython",
    "version": 3
   },
   "file_extension": ".py",
   "mimetype": "text/x-python",
   "name": "python",
   "nbconvert_exporter": "python",
   "pygments_lexer": "ipython3",
   "version": "3.11.2"
  }
 },
 "nbformat": 4,
 "nbformat_minor": 2
}
