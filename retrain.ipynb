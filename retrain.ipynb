{
 "cells": [
  {
   "cell_type": "code",
   "execution_count": null,
   "metadata": {},
   "outputs": [],
   "source": [
    "import psycopg2\n",
    "import pandas as pd\n",
    "from dotenv import load_dotenv\n",
    "import os"
   ]
  },
  {
   "cell_type": "code",
   "execution_count": null,
   "metadata": {},
   "outputs": [],
   "source": [
    "# Cargar las variables de entorno desde un archivo .env\n",
    "load_dotenv()\n",
    "\n",
    "# Obtener la URL de la base de datos desde las variables de entorno\n",
    "DATABASE_URL = os.getenv(\"DATABASE_URL\")\n",
    "\n",
    "# Establecer una conexión a la base de datos\n",
    "conn = psycopg2.connect(DATABASE_URL)\n",
    "\n",
    "# Definir la consulta SQL para seleccionar todos los datos de la tabla \"datos\"\n",
    "query = \"SELECT * FROM datos\"\n",
    "\n",
    "# Utilizar pandas para ejecutar la consulta y cargar los resultados en un DataFrame\n",
    "df = pd.read_sql_query(query, conn)\n",
    "\n",
    "# Cerrar la conexión a la base de datos\n",
    "conn.close()\n",
    "\n",
    "# Ahora, df contiene los datos de la tabla \"datos\" en un DataFrame"
   ]
  }
 ],
 "metadata": {
  "kernelspec": {
   "display_name": "venvSQL",
   "language": "python",
   "name": "python3"
  },
  "language_info": {
   "name": "python",
   "version": "3.11.2"
  }
 },
 "nbformat": 4,
 "nbformat_minor": 2
}
