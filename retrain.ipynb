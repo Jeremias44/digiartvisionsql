{
 "cells": [
  {
   "cell_type": "markdown",
   "metadata": {},
   "source": [
    "# Importación de librerías para conexión con la base de datos en PostgresSQL"
   ]
  },
  {
   "cell_type": "code",
   "execution_count": 1,
   "metadata": {},
   "outputs": [],
   "source": [
    "import psycopg2\n",
    "import pandas as pd\n",
    "from dotenv import load_dotenv\n",
    "import os\n",
    "import numpy as np"
   ]
  },
  {
   "cell_type": "markdown",
   "metadata": {},
   "source": [
    "# Importación de librerías para entrenamiento del modelo"
   ]
  },
  {
   "cell_type": "code",
   "execution_count": 2,
   "metadata": {},
   "outputs": [],
   "source": [
    "import tensorflow as tf\n",
    "from tensorflow import keras\n",
    "from tensorflow.keras import layers"
   ]
  },
  {
   "cell_type": "markdown",
   "metadata": {},
   "source": [
    "# Acceso a la base de datos de PostgresSQL"
   ]
  },
  {
   "cell_type": "code",
   "execution_count": 3,
   "metadata": {},
   "outputs": [
    {
     "name": "stderr",
     "output_type": "stream",
     "text": [
      "C:\\Users\\Usuario\\AppData\\Local\\Temp\\ipykernel_33240\\1929048143.py:14: UserWarning: pandas only supports SQLAlchemy connectable (engine/connection) or database string URI or sqlite3 DBAPI2 connection. Other DBAPI2 objects are not tested. Please consider using SQLAlchemy.\n",
      "  df = pd.read_sql_query(query, conn)\n"
     ]
    },
    {
     "data": {
      "text/plain": [
       "383"
      ]
     },
     "execution_count": 3,
     "metadata": {},
     "output_type": "execute_result"
    }
   ],
   "source": [
    "# Cargar las variables de entorno desde un archivo .env\n",
    "load_dotenv()\n",
    "\n",
    "# Obtener la URL de la base de datos desde las variables de entorno\n",
    "DATABASE_URL = os.getenv(\"DATABASE_URL\")\n",
    "\n",
    "# Establecer una conexión a la base de datos\n",
    "conn = psycopg2.connect(DATABASE_URL)\n",
    "\n",
    "# Definir la consulta SQL para seleccionar todos los datos de la tabla \"datos\"\n",
    "query = \"SELECT * FROM datos\"\n",
    "\n",
    "# Utilizar pandas para ejecutar la consulta y cargar los resultados en un DataFrame\n",
    "df = pd.read_sql_query(query, conn)\n",
    "\n",
    "# Cerrar la conexión a la base de datos\n",
    "conn.close()\n",
    "\n",
    "# Ahora, df contiene los datos de la tabla \"datos\" en un DataFrame. Comprobamos la cantidad de registros\n",
    "len(df)"
   ]
  },
  {
   "cell_type": "markdown",
   "metadata": {},
   "source": [
    "# Preparación de los datos para entrenar al modelo"
   ]
  },
  {
   "cell_type": "code",
   "execution_count": 4,
   "metadata": {},
   "outputs": [],
   "source": [
    "# Define una función para convertir la lista anidada en un numpy.ndarray\n",
    "def parse_vector(vector_list):\n",
    "    # Convierte la lista en un numpy.ndarray y luego redimensiona a (28, 28)\n",
    "    return np.array(vector_list).reshape(28, 28).astype(np.float32)\n",
    "\n",
    "# Aplica la función a la columna \"vector\" y crea una nueva columna \"VectorNum\"\n",
    "df['VectorNum'] = df['vector'].apply(parse_vector)\n",
    "\n",
    "# Convierte la columna 'VectorNum' en una lista de numpy.ndarray\n",
    "train_vectors = df['VectorNum'].to_list()\n",
    "\n",
    "# Convierte la lista en un numpy.ndarray de forma (n, 28, 28), donde n es el número de filas\n",
    "train_vectors = np.array(train_vectors)\n",
    "\n",
    "labels = df['etiqueta'].tolist()\n",
    "labels = np.array(labels)"
   ]
  },
  {
   "cell_type": "markdown",
   "metadata": {},
   "source": [
    "# Entrenamiento de retrained_model.h5 únicamente con los datos extraídos de la app (alojados en tabla datos, en la db de PostrgresSQL)"
   ]
  },
  {
   "cell_type": "code",
   "execution_count": 5,
   "metadata": {},
   "outputs": [
    {
     "name": "stdout",
     "output_type": "stream",
     "text": [
      "Epoch 1/6\n",
      "12/12 [==============================] - 3s 11ms/step - loss: 2.0572 - accuracy: 0.2794\n",
      "Epoch 2/6\n",
      "12/12 [==============================] - 0s 21ms/step - loss: 1.3452 - accuracy: 0.7023\n",
      "Epoch 3/6\n",
      "12/12 [==============================] - 0s 16ms/step - loss: 0.9085 - accuracy: 0.7755\n",
      "Epoch 4/6\n",
      "12/12 [==============================] - 0s 15ms/step - loss: 0.6278 - accuracy: 0.8355\n",
      "Epoch 5/6\n",
      "12/12 [==============================] - 0s 12ms/step - loss: 0.4784 - accuracy: 0.8877\n",
      "Epoch 6/6\n",
      "12/12 [==============================] - 0s 12ms/step - loss: 0.4193 - accuracy: 0.9138\n"
     ]
    },
    {
     "data": {
      "text/plain": [
       "<keras.src.callbacks.History at 0x1f6de813590>"
      ]
     },
     "execution_count": 5,
     "metadata": {},
     "output_type": "execute_result"
    }
   ],
   "source": [
    "# Crear un modelo secuencial\n",
    "retrained_model = keras.Sequential([\n",
    "    layers.Flatten(input_shape=(28, 28)),\n",
    "    layers.Dense(128, activation='relu'),\n",
    "    layers.Dropout(0.2),\n",
    "    layers.Dense(10, activation='softmax')\n",
    "])\n",
    "\n",
    "# Compilar el modelo\n",
    "retrained_model.compile(optimizer='adam',\n",
    "              loss='sparse_categorical_crossentropy',\n",
    "              metrics=['accuracy'])\n",
    "\n",
    "# Entrenar el modelo\n",
    "retrained_model.fit(np.array(train_vectors), labels, epochs=6)"
   ]
  },
  {
   "cell_type": "code",
   "execution_count": 7,
   "metadata": {},
   "outputs": [],
   "source": [
    "# Una vez que haya terminado el entrenamiento, guardar el modelo nuevamente si es necesario\n",
    "retrained_model.save(\"model_retrained.h5\")"
   ]
  },
  {
   "cell_type": "markdown",
   "metadata": {},
   "source": [
    "# Reentrenamiento de mix_model.h5. Utiliza el model.h5 preentrenado con MNIST, y reentrena las últimas capas con los datos extraídos de la app"
   ]
  },
  {
   "cell_type": "code",
   "execution_count": 8,
   "metadata": {},
   "outputs": [
    {
     "name": "stdout",
     "output_type": "stream",
     "text": [
      "Epoch 1/6\n",
      "12/12 [==============================] - 3s 9ms/step - loss: 2.0237 - accuracy: 0.7023\n",
      "Epoch 2/6\n",
      "12/12 [==============================] - 0s 9ms/step - loss: 1.0233 - accuracy: 0.8016\n",
      "Epoch 3/6\n",
      "12/12 [==============================] - 0s 9ms/step - loss: 0.7519 - accuracy: 0.8094\n",
      "Epoch 4/6\n",
      "12/12 [==============================] - 0s 9ms/step - loss: 0.5426 - accuracy: 0.8773\n",
      "Epoch 5/6\n",
      "12/12 [==============================] - 0s 14ms/step - loss: 0.3725 - accuracy: 0.8903\n",
      "Epoch 6/6\n",
      "12/12 [==============================] - 0s 14ms/step - loss: 0.2803 - accuracy: 0.9138\n"
     ]
    },
    {
     "data": {
      "text/plain": [
       "<keras.src.callbacks.History at 0x1f6dee0e590>"
      ]
     },
     "execution_count": 8,
     "metadata": {},
     "output_type": "execute_result"
    }
   ],
   "source": [
    "mnist_model = keras.models.load_model(\"model_mnist.h5\")\n",
    "mix_model = keras.models.clone_model(mnist_model)\n",
    "mix_model.set_weights(mnist_model.get_weights())\n",
    "for layer in mix_model.layers[:-12]: #las últimas tres capas\n",
    "    layer.trainable = False\n",
    "\n",
    "mix_model.compile(optimizer='adam', loss='sparse_categorical_crossentropy', metrics=['accuracy'])\n",
    "\n",
    "mix_model.fit(np.array(train_vectors), labels, epochs=6)"
   ]
  },
  {
   "cell_type": "code",
   "execution_count": 9,
   "metadata": {},
   "outputs": [],
   "source": [
    "# Una vez que haya terminado el entrenamiento, guardar el modelo\n",
    "mix_model.save(\"model_mix.h5\")"
   ]
  },
  {
   "cell_type": "markdown",
   "metadata": {},
   "source": [
    "# Entrenamiento del modelo con conjunto de datos mnist"
   ]
  },
  {
   "cell_type": "code",
   "execution_count": 86,
   "metadata": {},
   "outputs": [
    {
     "name": "stdout",
     "output_type": "stream",
     "text": [
      "Epoch 1/6\n",
      "1875/1875 [==============================] - 24s 11ms/step - loss: 0.2962 - accuracy: 0.9146\n",
      "Epoch 2/6\n",
      "1875/1875 [==============================] - 26s 14ms/step - loss: 0.1412 - accuracy: 0.9583\n",
      "Epoch 3/6\n",
      "1875/1875 [==============================] - 15s 8ms/step - loss: 0.1079 - accuracy: 0.9672\n",
      "Epoch 4/6\n",
      "1875/1875 [==============================] - 14s 7ms/step - loss: 0.0880 - accuracy: 0.9725\n",
      "Epoch 5/6\n",
      "1875/1875 [==============================] - 14s 7ms/step - loss: 0.0756 - accuracy: 0.9763\n",
      "Epoch 6/6\n",
      "1875/1875 [==============================] - 14s 7ms/step - loss: 0.0657 - accuracy: 0.9790\n"
     ]
    },
    {
     "data": {
      "text/plain": [
       "<keras.src.callbacks.History at 0x1ff25b88a90>"
      ]
     },
     "execution_count": 86,
     "metadata": {},
     "output_type": "execute_result"
    }
   ],
   "source": [
    "\"\"\"\n",
    "# Cargar el conjunto de datos MNIST\n",
    "mnist = keras.datasets.mnist\n",
    "(train_images, train_labels), (test_images, test_labels) = mnist.load_data()\n",
    "# Normalizar los valores de píxeles al rango [0, 1]\n",
    "train_images, test_images = train_images / 255.0, test_images / 255.0\n",
    "\n",
    "# Crear un modelo secuencial\n",
    "mnist_model = keras.Sequential([\n",
    "    layers.Flatten(input_shape=(28, 28)),\n",
    "    layers.Dense(128, activation='relu'),\n",
    "    layers.Dropout(0.2),\n",
    "    layers.Dense(10, activation='softmax')\n",
    "])\n",
    "\n",
    "# Compilar el modelo\n",
    "mnist_model.compile(optimizer='adam',\n",
    "              loss='sparse_categorical_crossentropy',\n",
    "              metrics=['accuracy'])\n",
    "\n",
    "# Entrenar el modelo\n",
    "mnist_model.fit(np.array(train_images), train_labels, epochs=6)\n",
    "\n",
    "# Una vez que haya terminado el entrenamiento, guardar el modelo\n",
    "mnist_model.save(\"model_mnist.h5\")\n",
    "\"\"\""
   ]
  },
  {
   "cell_type": "markdown",
   "metadata": {},
   "source": [
    "***\n",
    "# Comparativa de modelos\n",
    "***"
   ]
  },
  {
   "cell_type": "code",
   "execution_count": 111,
   "metadata": {},
   "outputs": [],
   "source": [
    "mnist_model = keras.models.load_model(\"model_mnist.h5\")\n",
    "mix_model = keras.models.load_model(\"model_mix.h5\")\n",
    "retrainedt_model = keras.models.load_model(\"model_retrained.h5\")"
   ]
  }
 ],
 "metadata": {
  "kernelspec": {
   "display_name": "venvSQL",
   "language": "python",
   "name": "python3"
  },
  "language_info": {
   "codemirror_mode": {
    "name": "ipython",
    "version": 3
   },
   "file_extension": ".py",
   "mimetype": "text/x-python",
   "name": "python",
   "nbconvert_exporter": "python",
   "pygments_lexer": "ipython3",
   "version": "3.11.2"
  }
 },
 "nbformat": 4,
 "nbformat_minor": 2
}
